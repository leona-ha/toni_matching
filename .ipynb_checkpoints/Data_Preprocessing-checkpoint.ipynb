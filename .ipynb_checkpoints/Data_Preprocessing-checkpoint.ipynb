{
 "cells": [
  {
   "cell_type": "code",
   "execution_count": 1,
   "id": "70475827-bdae-4004-a3d4-f51775064489",
   "metadata": {},
   "outputs": [],
   "source": [
    "import pandas as pd\n",
    "import ast\n"
   ]
  },
  {
   "cell_type": "code",
   "execution_count": 2,
   "id": "4a153833-286b-4899-9c28-0eec95a73901",
   "metadata": {},
   "outputs": [],
   "source": [
    "from server_config import DATA_PATH"
   ]
  },
  {
   "cell_type": "markdown",
   "id": "3ec72750-2ea2-4fdb-8537-c80922568a4f",
   "metadata": {},
   "source": [
    "### 1. Therapist data"
   ]
  },
  {
   "cell_type": "code",
   "execution_count": 3,
   "id": "c57bcfcf-cbe4-438d-ae98-381dc4b27c2f",
   "metadata": {},
   "outputs": [],
   "source": [
    "df_th = pd.read_csv(DATA_PATH + \"/df_th_nopr_experience_corrected_200624_LB.csv\", sep=\";\",low_memory = \"False\")"
   ]
  },
  {
   "cell_type": "code",
   "execution_count": 4,
   "id": "16a2cc3a-f7de-4345-a0da-0d019e33d980",
   "metadata": {},
   "outputs": [],
   "source": [
    "keep_cols_th = ['therapist_id', 't0_method_t_CBT','t0_method_t_PDT','t0_method_t_ST','t0_method_t_AP', 't0_appliedmethod_t_VT', 't0_appliedmethod_t_TP',\n",
    "             't0_appliedmethod_t_AP', 't0_appliedmethod_t_ST','t0_appliedmethod_t_Other','t0_location_t','t0_gender_t',\n",
    " 't0_relationship_t','t0_sexualorientation_t','t0_children_t','t0_age_t', 't0_experience_t','t0_license_t', 't0_bfi_t_1',\n",
    " 't0_bfi_t_2','t0_bfi_t_3','t0_bfi_t_4','t0_bfi_t_5','t0_bfi_t_6','t0_bfi_t_7','t0_bfi_t_8','t0_bfi_t_9','t0_bfi_t_10',]"
   ]
  },
  {
   "cell_type": "code",
   "execution_count": 5,
   "id": "f369cb63-1e52-497f-80a2-032723ebe0c7",
   "metadata": {},
   "outputs": [],
   "source": [
    "labels = [\"VT\", \"TP\", \"AP\", \"ST\", \"Other\"]  \n",
    "\n",
    "col = df_th[\"t0_appliedmethod_t_A\"]\n",
    "\n",
    "# 1) Parse strings like \"[True, False, ...]\" -> list\n",
    "col = col.map(lambda x: ast.literal_eval(x) if isinstance(x, str) else x)\n",
    "\n",
    "# 2) Unwrap nested lists like [[True, False, ...]] -> [True, False, ...]\n",
    "col = col.map(lambda x: x[0] if isinstance(x, (list, tuple)) and len(x) == 1 and isinstance(x[0], (list, tuple)) else x)\n",
    "\n",
    "# 3) Safety: replace missing/invalid with all-False (or raise if you prefer)\n",
    "def ensure_five(x):\n",
    "    if isinstance(x, (list, tuple)) and len(x) == 5:\n",
    "        return list(x)\n",
    "    if pd.isna(x):\n",
    "        return [False]*5\n",
    "\n",
    "col = col.map(ensure_five)\n",
    "\n",
    "# 4) Build the indicator columns\n",
    "method_df = (\n",
    "    pd.DataFrame(col.tolist(), index=df_th.index, columns=labels)\n",
    "      .astype(int)\n",
    "      .add_prefix(\"t0_appliedmethod_t_\")\n",
    ")"
   ]
  },
  {
   "cell_type": "code",
   "execution_count": 6,
   "id": "4a0fec93-648a-4e04-96cc-f782a3304c43",
   "metadata": {},
   "outputs": [],
   "source": [
    "df_th = df_th.join(method_df)\n"
   ]
  },
  {
   "cell_type": "code",
   "execution_count": 7,
   "id": "4c0b794e-f86f-4aa1-bf51-17724f7060be",
   "metadata": {},
   "outputs": [],
   "source": [
    "df_th = df_th[keep_cols_th]"
   ]
  },
  {
   "cell_type": "markdown",
   "id": "4e1bc463-e6c3-407b-ae58-ef41d4f638fc",
   "metadata": {},
   "source": [
    "### 2. Patient data"
   ]
  },
  {
   "cell_type": "code",
   "execution_count": 8,
   "id": "ec864bb6-c2c6-4949-92c1-ea90a599345c",
   "metadata": {},
   "outputs": [],
   "source": [
    "df_pat = pd.read_json(DATA_PATH + \"/TONI_pat_corrected_20241025_raw.json\")"
   ]
  },
  {
   "cell_type": "code",
   "execution_count": 9,
   "id": "597dd938-de52-48cc-86cc-9c6da6fbe8f3",
   "metadata": {},
   "outputs": [],
   "source": [
    "df_pat = df_pat.drop(columns=[c for c in df_pat.columns if c.startswith(('t2','t3','t4','u_','w', 'dropout'))])"
   ]
  },
  {
   "cell_type": "code",
   "execution_count": null,
   "id": "d5478d86-39e8-47f8-81c2-21fd6c02d2b1",
   "metadata": {},
   "outputs": [],
   "source": [
    "keep_col_pat = (\n",
    "    # IDs / study\n",
    "    ['patient_id', 'therapist_id', 'studyGroup'] +\n",
    "\n",
    "    # Demographics / baseline\n",
    "    ['t0_age_p','t0_gender_p','t0_school_p','t0_employment_p','t0_location_p','t0_chronicity_p'] +\n",
    "    [f\"t0_therapy_p_{i}\" for i in range(1, 4)] +\n",
    "    ['t0_familyhistory_p','t0_meds_p','t0_relationship_p','t0_ses_p','t0_distance_p'] +\n",
    "    [f\"t0_migration_p_{i}\" for i in range(1, 4)] +\n",
    "    [f\"surveys.t0.answers.1585.discrimination_{i}\" for i in range(1, 6)] +\n",
    "    [f\"t0_disease_p_{c}\" for c in list('ABCDEFG')] +\n",
    "\n",
    "    # t0 scales\n",
    "    [f\"t0_phq_p_{i}\" for i in range(1, 9)] +\n",
    "    [f\"t0_gad_p_{i}\" for i in range(1, 7+1)] +\n",
    "    [f\"t0_swls_p_{i}\" for i in range(1, 5+1)] +\n",
    "    [f\"t0_aqol_p_{i}\" for i in range(1, 35+1)] +\n",
    "    [f\"t0_ede_p_{i}\" for i in range(1, 8+1)] +\n",
    "    ['t0_audit_p_filter'] + [f\"t0_audit_p_{i}\" for i in range(1, 3+1)] +\n",
    "    ['t0_dudit_p_filter'] + [f\"t0_dudit_p_{i}\" for i in range(1, 4+1)] +\n",
    "    [f\"t0_msfq_p_{i}\" for i in range(1, 5+1)] +\n",
    "    [f\"t0_pid_p_{i}\" for i in range(1, 36+1)] +\n",
    "    [f\"t0_opd_p_{i}\" for i in range(1, 12+1)] +\n",
    "    [f\"t0_ace_p_{i}\" for i in range(1, 10+1)] +\n",
    "    [f\"t0_ask_p_{i}\" for i in range(1, 3+1)] +\n",
    "    [f\"t0_mhse_p_{i}\" for i in range(1, 6+1)] +\n",
    "   \n",
    "\n",
    "    # t1 scales\n",
    "    [f\"t1_phq_p_{i}\" for i in range(1, 8+1)] +\n",
    "    [f\"t1_gad_p_{i}\" for i in range(1, 7+1)]\n",
    "\n",
    "    ['t0_change_tp_1', 't0_change_tp_2', 't0_matching_tp_1'] +\n",
    "    [f\"t1_wai_tp_{i}\" for i in range(1, 9)] +\n",
    "    [f\"t1_wai_p_{i}\" for i in range(1, 11)] +\n",
    "    ['t1_matching_tp_1','t0_matching_p_1', 't1_matching_p_1']\n",
    ")"
   ]
  }
 ],
 "metadata": {
  "kernelspec": {
   "display_name": "Python (matching)",
   "language": "python",
   "name": "matching"
  },
  "language_info": {
   "codemirror_mode": {
    "name": "ipython",
    "version": 3
   },
   "file_extension": ".py",
   "mimetype": "text/x-python",
   "name": "python",
   "nbconvert_exporter": "python",
   "pygments_lexer": "ipython3",
   "version": "3.12.11"
  }
 },
 "nbformat": 4,
 "nbformat_minor": 5
}

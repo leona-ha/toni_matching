{
 "cells": [
  {
   "cell_type": "code",
   "execution_count": 1,
   "id": "70475827-bdae-4004-a3d4-f51775064489",
   "metadata": {},
   "outputs": [],
   "source": [
    "import pandas as pd\n",
    "import ast\n",
    "import numpy as np"
   ]
  },
  {
   "cell_type": "code",
   "execution_count": 2,
   "id": "4a153833-286b-4899-9c28-0eec95a73901",
   "metadata": {},
   "outputs": [],
   "source": [
    "from server_config import DATA_PATH\n",
    "from ML_Pipeline import  MatchConfig, run_pipeline\n"
   ]
  },
  {
   "cell_type": "markdown",
   "id": "3ec72750-2ea2-4fdb-8537-c80922568a4f",
   "metadata": {},
   "source": [
    "### 1. Therapist data"
   ]
  },
  {
   "cell_type": "code",
   "execution_count": 3,
   "id": "c57bcfcf-cbe4-438d-ae98-381dc4b27c2f",
   "metadata": {},
   "outputs": [],
   "source": [
    "df_th = pd.read_csv(DATA_PATH + \"/df_th_nopr_experience_corrected_200624_LB.csv\", sep=\";\",low_memory = \"False\")"
   ]
  },
  {
   "cell_type": "code",
   "execution_count": 4,
   "id": "16a2cc3a-f7de-4345-a0da-0d019e33d980",
   "metadata": {},
   "outputs": [],
   "source": [
    "keep_cols_th = ['therapist_id', 't0_method_t_CBT','t0_method_t_PDT','t0_method_t_ST','t0_method_t_AP', 't0_appliedmethod_t_VT', 't0_appliedmethod_t_TP',\n",
    "             't0_appliedmethod_t_AP', 't0_appliedmethod_t_ST','t0_appliedmethod_t_Other','t0_location_t','t0_gender_t',\n",
    " 't0_relationship_t','t0_sexualorientation_t','t0_children_t','t0_age_t', 't0_experience_t','t0_license_t', 't0_bfi_t_1',\n",
    " 't0_bfi_t_2','t0_bfi_t_3','t0_bfi_t_4','t0_bfi_t_5','t0_bfi_t_6','t0_bfi_t_7','t0_bfi_t_8','t0_bfi_t_9','t0_bfi_t_10',]"
   ]
  },
  {
   "cell_type": "code",
   "execution_count": 5,
   "id": "f369cb63-1e52-497f-80a2-032723ebe0c7",
   "metadata": {},
   "outputs": [],
   "source": [
    "labels = [\"VT\", \"TP\", \"AP\", \"ST\", \"Other\"]  \n",
    "\n",
    "col = df_th[\"t0_appliedmethod_t_A\"]\n",
    "\n",
    "# 1) Parse strings like \"[True, False, ...]\" -> list\n",
    "col = col.map(lambda x: ast.literal_eval(x) if isinstance(x, str) else x)\n",
    "\n",
    "# 2) Unwrap nested lists like [[True, False, ...]] -> [True, False, ...]\n",
    "col = col.map(lambda x: x[0] if isinstance(x, (list, tuple)) and len(x) == 1 and isinstance(x[0], (list, tuple)) else x)\n",
    "\n",
    "# 3) Safety: replace missing/invalid with all-False (or raise if you prefer)\n",
    "def ensure_five(x):\n",
    "    if isinstance(x, (list, tuple)) and len(x) == 5:\n",
    "        return list(x)\n",
    "    if pd.isna(x):\n",
    "        return [False]*5\n",
    "\n",
    "col = col.map(ensure_five)\n",
    "\n",
    "# 4) Build the indicator columns\n",
    "method_df = (\n",
    "    pd.DataFrame(col.tolist(), index=df_th.index, columns=labels)\n",
    "      .astype(int)\n",
    "      .add_prefix(\"t0_appliedmethod_t_\")\n",
    ")"
   ]
  },
  {
   "cell_type": "code",
   "execution_count": 6,
   "id": "4a0fec93-648a-4e04-96cc-f782a3304c43",
   "metadata": {},
   "outputs": [],
   "source": [
    "df_th = df_th.join(method_df)\n"
   ]
  },
  {
   "cell_type": "code",
   "execution_count": 7,
   "id": "4c0b794e-f86f-4aa1-bf51-17724f7060be",
   "metadata": {},
   "outputs": [],
   "source": [
    "df_th = df_th[keep_cols_th]"
   ]
  },
  {
   "cell_type": "code",
   "execution_count": 8,
   "id": "fe146d5e-73f2-43ac-a0fa-05b67af6fd4c",
   "metadata": {},
   "outputs": [],
   "source": [
    "# BFI-10 items (1–5), reverse-code, then build subscale SUMS using df_th and t0-prefix\n",
    "bfi_items = [f\"t0_bfi_t_{i}\" for i in range(1, 11)]\n",
    "df_th[bfi_items] = df_th[bfi_items].apply(pd.to_numeric, errors=\"coerce\")\n",
    "\n",
    "# Reverse-coded items: 1, 3, 4, 5, 7\n",
    "rev_items = [\"t0_bfi_t_1\", \"t0_bfi_t_3\", \"t0_bfi_t_4\", \"t0_bfi_t_5\", \"t0_bfi_t_7\"]\n",
    "for c in rev_items:\n",
    "    df_th[c + \"_r\"] = 6 - df_th[c]\n",
    "\n",
    "# Subscale sums (2 items each)\n",
    "df_th[\"t0_bfi_t_extraversion\"]     = df_th[[\"t0_bfi_t_1_r\", \"t0_bfi_t_6\"]].sum(axis=1)\n",
    "df_th[\"t0_bfi_t_agreeableness\"]    = df_th[[\"t0_bfi_t_2\",   \"t0_bfi_t_7_r\"]].sum(axis=1)\n",
    "df_th[\"t0_bfi_t_conscientiousness\"]= df_th[[\"t0_bfi_t_3_r\", \"t0_bfi_t_8\"]].sum(axis=1)\n",
    "df_th[\"t0_bfi_t_neuroticism\"]      = df_th[[\"t0_bfi_t_4_r\", \"t0_bfi_t_9\"]].sum(axis=1)\n",
    "df_th[\"t0_bfi_t_openness\"]         = df_th[[\"t0_bfi_t_5_r\", \"t0_bfi_t_10\"]].sum(axis=1)\n",
    "\n",
    "# (Optional) drop helper reverse-coded columns:\n",
    "df_th.drop(columns=[c + \"_r\" for c in rev_items], inplace=True)\n"
   ]
  },
  {
   "cell_type": "markdown",
   "id": "4e1bc463-e6c3-407b-ae58-ef41d4f638fc",
   "metadata": {},
   "source": [
    "### 2. Patient data"
   ]
  },
  {
   "cell_type": "code",
   "execution_count": 9,
   "id": "ec864bb6-c2c6-4949-92c1-ea90a599345c",
   "metadata": {},
   "outputs": [],
   "source": [
    "df_pat = pd.read_json(DATA_PATH + \"/TONI_pat_corrected_20241025_raw.json\")"
   ]
  },
  {
   "cell_type": "code",
   "execution_count": 10,
   "id": "d5478d86-39e8-47f8-81c2-21fd6c02d2b1",
   "metadata": {},
   "outputs": [],
   "source": [
    "keep_cols = (\n",
    "    # IDs / study\n",
    "    ['patient_id', 'therapist_id', 'u_registrationDate_p'] +\n",
    "\n",
    "    # Demographics / baseline\n",
    "    ['t0_age_p','t0_gender_p','t0_school_p','t0_employment_p','t0_location_p'] +\n",
    "    [f\"t0_therapy_p_{i}\" for i in range(1, 4)] +\n",
    "    ['t0_familyhistory_p','t0_meds_p','t0_relationship_p','t0_ses_p'] +\n",
    "    [f\"t0_migration_p_{i}\" for i in range(1, 4)] +\n",
    "    [f\"surveys.t0.answers.1585.discrimination_{i}\" for i in range(1, 6)] +\n",
    "    [f\"t0_disease_p_{c}\" for c in list('ABCDEFG')] +\n",
    "\n",
    "    # t0 scales\n",
    "    [f\"t0_phq_p_{i}\" for i in range(1, 9)] +\n",
    "    [f\"t0_gad_p_{i}\" for i in range(1, 7+1)] +\n",
    "    [f\"t0_swls_p_{i}\" for i in range(1, 5+1)] +\n",
    "    [f\"t0_aqol_p_{i}\" for i in range(1, 35+1)] +\n",
    "    [f\"t0_ede_p_{i}\" for i in range(1, 8+1)] +\n",
    "    (['t0_audit_p_filter'] + [f\"t0_audit_p_{i}\" for i in range(1, 3+1)]) +\n",
    "    (['t0_dudit_p_filter'] + [f\"t0_dudit_p_{i}\" for i in range(1, 4+1)]) +\n",
    "    [f\"t0_msfq_p_{i}\" for i in range(1, 5+1)] +\n",
    "    [f\"t0_pid_p_{i}\" for i in range(1, 36+1)] +\n",
    "    [f\"t0_opd_p_{i}\" for i in range(1, 12+1)] +\n",
    "    [f\"t0_ace_p_{i}\" for i in range(1, 10+1)] +\n",
    "    [f\"t0_ask_p_{i}\" for i in range(1, 3+1)] +\n",
    "    [f\"t0_mhse_p_{i}\" for i in range(1, 6+1)] +\n",
    "\n",
    "    # t1 scales\n",
    "    [f\"t1_phq_p_{i}\" for i in range(1, 8+1)] +\n",
    "    [f\"t1_gad_p_{i}\" for i in range(1, 7+1)] +\n",
    "\n",
    "    # alliance / matching\n",
    "\n",
    "    [ 't0_change_p_1', 't0_change_p_2', 't0_dropout_p']\n",
    ")\n"
   ]
  },
  {
   "cell_type": "code",
   "execution_count": 11,
   "id": "b1492826-b390-4c16-9dc0-33982ff5126c",
   "metadata": {},
   "outputs": [],
   "source": [
    "df_pat= df_pat[keep_cols]"
   ]
  },
  {
   "cell_type": "markdown",
   "id": "efe45d7b-4e83-47bc-a6c3-fcd4d26a4ada",
   "metadata": {},
   "source": [
    "#### 2.1 Calculate Subscales for self-report data"
   ]
  },
  {
   "cell_type": "markdown",
   "id": "d2bd4267-9765-4bab-9aed-a0374489dbda",
   "metadata": {},
   "source": [
    "#### Outcome (PHQ + GAD)"
   ]
  },
  {
   "cell_type": "code",
   "execution_count": 12,
   "id": "258418f4-8e7e-41bc-a9bb-7a3d451cbeb4",
   "metadata": {},
   "outputs": [],
   "source": [
    "# define item columns\n",
    "phq_cols_t1 = [f\"t1_phq_p_{i}\" for i in range(1, 9)]\n",
    "gad_cols_t1 = [f\"t1_gad_p_{i}\" for i in range(1, 8)]\n",
    "\n",
    "mask_complete = df_pat[phq_cols_t1 + gad_cols_t1].notna().all(axis=1)\n",
    "df_pat_clean = df_pat.loc[mask_complete].copy()"
   ]
  },
  {
   "cell_type": "code",
   "execution_count": 13,
   "id": "36448252-24f1-49ee-a2b9-f3eb0b00348b",
   "metadata": {},
   "outputs": [],
   "source": [
    "df_pat_clean[\"t1_phq8_total\"] = df_pat_clean[phq_cols_t1].sum(axis=1)\n",
    "df_pat_clean[\"t1_gad7_total\"] = df_pat_clean[gad_cols_t1].sum(axis=1)"
   ]
  },
  {
   "cell_type": "code",
   "execution_count": 14,
   "id": "6a253f54-fbd5-4d52-8c5c-00f7fe5fce2f",
   "metadata": {},
   "outputs": [],
   "source": [
    "df_pat_clean[\"t1_distress_sum\"] = (\n",
    "    df_pat_clean[\"t1_phq8_total\"] + df_pat_clean[\"t1_gad7_total\"]\n",
    ")"
   ]
  },
  {
   "cell_type": "code",
   "execution_count": 15,
   "id": "667a2d29-240e-49c4-a917-150c83a8e6f8",
   "metadata": {},
   "outputs": [],
   "source": [
    "# define item columns\n",
    "phq_cols_t0 = [f\"t0_phq_p_{i}\" for i in range(1, 9)]\n",
    "gad_cols_t0 = [f\"t0_gad_p_{i}\" for i in range(1, 8)]"
   ]
  },
  {
   "cell_type": "code",
   "execution_count": 16,
   "id": "c4744b0b-6f1e-429b-a754-7ccc64689d06",
   "metadata": {},
   "outputs": [],
   "source": [
    "df_pat_clean[\"t0_phq8_p_sum\"] = df_pat_clean[phq_cols_t0].sum(axis=1)\n",
    "df_pat_clean[\"t0_gad7_p_sum\"] = df_pat_clean[gad_cols_t0].sum(axis=1)"
   ]
  },
  {
   "cell_type": "code",
   "execution_count": 17,
   "id": "30aea652-8f57-4afe-86db-a8115274eeec",
   "metadata": {},
   "outputs": [],
   "source": [
    "df_pat_clean[\"t0_distress_sum\"] = (\n",
    "    df_pat_clean[\"t0_phq8_p_sum\"] + df_pat_clean[\"t0_gad7_p_sum\"]\n",
    ")"
   ]
  },
  {
   "cell_type": "code",
   "execution_count": 18,
   "id": "59b51bc5-e951-4d5e-af1b-e223aecfcfa6",
   "metadata": {},
   "outputs": [],
   "source": [
    "df_pat_clean[\"change_distress\"] =  df_pat_clean[\"t0_distress_sum\"] - df_pat_clean[\"t1_distress_sum\"] "
   ]
  },
  {
   "cell_type": "code",
   "execution_count": 19,
   "id": "e0efcff5-0950-45f6-b017-afcad0088699",
   "metadata": {},
   "outputs": [
    {
     "data": {
      "text/plain": [
       "count    966.000000\n",
       "mean      19.556936\n",
       "std        8.695206\n",
       "min        0.000000\n",
       "25%       13.000000\n",
       "50%       19.000000\n",
       "75%       25.000000\n",
       "max       45.000000\n",
       "Name: t1_distress_sum, dtype: float64"
      ]
     },
     "execution_count": 19,
     "metadata": {},
     "output_type": "execute_result"
    }
   ],
   "source": [
    "df_pat_clean[\"t1_distress_sum\"].describe()"
   ]
  },
  {
   "cell_type": "markdown",
   "id": "17baa351-00ec-492e-b535-5812b3825a7c",
   "metadata": {},
   "source": [
    "#### SWLS Baseline"
   ]
  },
  {
   "cell_type": "code",
   "execution_count": 20,
   "id": "34d850c4-16ce-43c5-8e79-93e971865512",
   "metadata": {},
   "outputs": [],
   "source": [
    "swls_cols_t0 = [f\"t0_swls_p_{i}\" for i in range(1, 6)]"
   ]
  },
  {
   "cell_type": "code",
   "execution_count": 21,
   "id": "cb435d06-c21f-40bc-a4d1-16e7a7f52f66",
   "metadata": {},
   "outputs": [],
   "source": [
    "df_pat_clean[\"t0_swls_p_sum\"] = df_pat_clean[swls_cols_t0].sum(axis=1)"
   ]
  },
  {
   "cell_type": "markdown",
   "id": "20bd42fb-325b-4447-a55b-39114a3f2b7d",
   "metadata": {},
   "source": [
    "#### Aqol Baseline"
   ]
  },
  {
   "cell_type": "code",
   "execution_count": 22,
   "id": "b950ff6b-cd7d-459d-b84e-d391b6276c4c",
   "metadata": {},
   "outputs": [],
   "source": [
    "aqol_map = {\n",
    "    \"t0_aqol_p_coping\": ['t0_aqol_p_1', 't0_aqol_p_21', 't0_aqol_p_29'],\n",
    "    \"t0_aqol_p_relationship\": ['t0_aqol_p_2', 't0_aqol_p_4', 't0_aqol_p_9', 't0_aqol_p_10',\n",
    "                               't0_aqol_p_23', 't0_aqol_p_31', 't0_aqol_p_34'],\n",
    "    \"t0_aqol_p_independent_living\": ['t0_aqol_p_3', 't0_aqol_p_15', 't0_aqol_p_19', 't0_aqol_p_30'],\n",
    "    \"t0_aqol_p_mental_health\": ['t0_aqol_p_5', 't0_aqol_p_8', 't0_aqol_p_12', 't0_aqol_p_14',\n",
    "                                't0_aqol_p_16', 't0_aqol_p_18', 't0_aqol_p_33', 't0_aqol_p_35'],\n",
    "    \"t0_aqol_p_pain\": ['t0_aqol_p_6', 't0_aqol_p_22', 't0_aqol_p_24'],\n",
    "    \"t0_aqol_p_self_worth\": ['t0_aqol_p_7', 't0_aqol_p_13', 't0_aqol_p_26'],\n",
    "    \"t0_aqol_p_happiness\": ['t0_aqol_p_17', 't0_aqol_p_20', 't0_aqol_p_25', 't0_aqol_p_27'],\n",
    "    \"t0_aqol_p_senses\": ['t0_aqol_p_11', 't0_aqol_p_28', 't0_aqol_p_32'],\n",
    "}"
   ]
  },
  {
   "cell_type": "code",
   "execution_count": 23,
   "id": "c34e79b4-16a5-40ea-b4ba-414dc3e009cf",
   "metadata": {},
   "outputs": [],
   "source": [
    "df_pat_clean = df_pat_clean.assign(**{scale: df_pat_clean[items].mean(axis=1) for scale, items in aqol_map.items()})\n"
   ]
  },
  {
   "cell_type": "markdown",
   "id": "a50a1813-316f-4b27-af73-167605e9c39e",
   "metadata": {},
   "source": [
    "#### EDE Baseline"
   ]
  },
  {
   "cell_type": "code",
   "execution_count": 24,
   "id": "da1bf704-634a-405b-a2c2-e128dbbbbafa",
   "metadata": {},
   "outputs": [],
   "source": [
    "df_pat_clean[\"t0_ede_p_sum\"] = df_pat_clean[[f\"t0_ede_p_{i}\" for i in range(1, 9)]].sum(axis=1)\n"
   ]
  },
  {
   "cell_type": "markdown",
   "id": "3b1fb89b-2914-4ed7-94ea-2b4e6a2442c4",
   "metadata": {},
   "source": [
    "#### Audit Baseline"
   ]
  },
  {
   "cell_type": "code",
   "execution_count": 25,
   "id": "1d4a4037-28eb-41d3-a68a-4ece9543762d",
   "metadata": {},
   "outputs": [],
   "source": [
    "aud_items = [f\"t0_audit_p_{i}\" for i in range(1, 5)]\n",
    "fcol = \"t0_audit_p_filter\"\n",
    "\n",
    "# set all AUDIT item columns to 0 if filter == 0\n",
    "df_pat_clean.loc[df_pat_clean[fcol].eq(0), aud_items] = 0\n",
    "\n",
    "# sum AUDIT items only if filter == 1; otherwise set total to 0\n",
    "df_pat_clean[\"t0_audit_p_sum\"] = np.where(\n",
    "    df_pat_clean[fcol].eq(1),\n",
    "    df_pat_clean[aud_items].sum(axis=1),\n",
    "    0\n",
    ")"
   ]
  },
  {
   "cell_type": "markdown",
   "id": "0202f8bb-520f-449e-af5e-17d3a11b0144",
   "metadata": {},
   "source": [
    "#### Dudit Baseline"
   ]
  },
  {
   "cell_type": "code",
   "execution_count": 26,
   "id": "8cd00bfd-c841-462c-ad2d-f49145d0fb5a",
   "metadata": {},
   "outputs": [],
   "source": [
    "dud_items = [f\"t0_dudit_p_{i}\" for i in range(1, 5)]\n",
    "fcol = \"t0_dudit_p_filter\"\n",
    "\n",
    "# set all AUDIT item columns to 0 if filter == 0\n",
    "df_pat_clean.loc[df_pat_clean[fcol].eq(0), dud_items] = 0\n",
    "\n",
    "# sum AUDIT items only if filter == 1; otherwise set total to 0\n",
    "df_pat_clean[\"t0_dudit_p_sum\"] = np.where(\n",
    "    df_pat_clean[fcol].eq(1),\n",
    "    df_pat_clean[dud_items].sum(axis=1),\n",
    "    0\n",
    ")"
   ]
  },
  {
   "cell_type": "markdown",
   "id": "67a9ad1f-73d5-4ce3-8cc1-1ac791192bdd",
   "metadata": {},
   "source": [
    "#### MFSQ Baseline"
   ]
  },
  {
   "cell_type": "code",
   "execution_count": 27,
   "id": "e5b2a467-777c-4697-9d87-d766f232875d",
   "metadata": {},
   "outputs": [],
   "source": [
    "msfq_cols = [f\"t0_msfq_p_{i}\" for i in range(1, 6)]\n",
    "df_pat_clean[msfq_cols] = df_pat_clean[msfq_cols].apply(pd.to_numeric, errors=\"coerce\")\n",
    "\n",
    "df_pat_clean[\"t0_msfq_p_sum\"] = df_pat_clean[msfq_cols].sum(axis=1)"
   ]
  },
  {
   "cell_type": "markdown",
   "id": "801b7eca-8ce1-4a08-a1b9-77b815e8c799",
   "metadata": {},
   "source": [
    "#### PID5BF+ Baseline"
   ]
  },
  {
   "cell_type": "code",
   "execution_count": 28,
   "id": "121a941b-4073-46d3-91d9-655b3cc653ff",
   "metadata": {},
   "outputs": [],
   "source": [
    "\n",
    "# PID-5 BF+ domains → item columns\n",
    "pid_map = {\n",
    "    \"t0_pid_p_negative_affect\": ['t0_pid_p_1','t0_pid_p_7','t0_pid_p_13','t0_pid_p_19','t0_pid_p_25','t0_pid_p_31'],\n",
    "    \"t0_pid_p_antagonism\":      ['t0_pid_p_2','t0_pid_p_8','t0_pid_p_14','t0_pid_p_20','t0_pid_p_26','t0_pid_p_32'],\n",
    "    \"t0_pid_p_disinhibition\":   ['t0_pid_p_3','t0_pid_p_9','t0_pid_p_15','t0_pid_p_21','t0_pid_p_27','t0_pid_p_33'],\n",
    "    \"t0_pid_p_detachment\":      ['t0_pid_p_4','t0_pid_p_10','t0_pid_p_16','t0_pid_p_22','t0_pid_p_28','t0_pid_p_34'],\n",
    "    \"t0_pid_p_psychoticism\":    ['t0_pid_p_5','t0_pid_p_11','t0_pid_p_17','t0_pid_p_23','t0_pid_p_29','t0_pid_p_35'],\n",
    "    \"t0_pid_p_anankastia\":      ['t0_pid_p_6','t0_pid_p_12','t0_pid_p_18','t0_pid_p_24','t0_pid_p_30','t0_pid_p_36'],\n",
    "}\n",
    "\n",
    "# 1) Coerce all PID item columns to numeric (e.g., \"2\" → 2, invalid → NaN)\n",
    "item_cols = sorted({c for cols in pid_map.values() for c in cols})\n",
    "df_pat_clean[item_cols] = df_pat_clean[item_cols].apply(pd.to_numeric, errors=\"coerce\")\n",
    "\n",
    "# 2) Domain sums (NaNs treated as 0 by default)\n",
    "for scale, items in pid_map.items():\n",
    "    df_pat_clean[scale] = df_pat_clean[items].mean(axis=1)\n"
   ]
  },
  {
   "cell_type": "markdown",
   "id": "e71f4ffb-3eeb-494e-8cd0-957d71ee6336",
   "metadata": {},
   "source": [
    "#### OPD Baseline"
   ]
  },
  {
   "cell_type": "code",
   "execution_count": 29,
   "id": "af30bfa8-3609-4348-9418-fe32175289dc",
   "metadata": {},
   "outputs": [],
   "source": [
    "# OPD-SFK domains → item columns\n",
    "opd_map = {\n",
    "    \"t0_opd_p_self\":         ['t0_opd_p_1', 't0_opd_p_2', 't0_opd_p_5', 't0_opd_p_8'],\n",
    "    \"t0_opd_p_contact\":      ['t0_opd_p_4', 't0_opd_p_6', 't0_opd_p_10', 't0_opd_p_11'],\n",
    "    \"t0_opd_p_relationship\": ['t0_opd_p_3', 't0_opd_p_7', 't0_opd_p_9', 't0_opd_p_12'],\n",
    "}\n",
    "\n",
    "# coerce item columns to numeric (e.g., \"2\" → 2; invalid → NaN)\n",
    "opd_items = sorted({c for cols in opd_map.values() for c in cols})\n",
    "df_pat_clean[opd_items] = df_pat_clean[opd_items].apply(pd.to_numeric, errors=\"coerce\")\n",
    "\n",
    "# domain sums (NaNs treated as 0 by default)\n",
    "for scale, items in opd_map.items():\n",
    "    df_pat_clean[scale] = df_pat_clean[items].mean(axis=1)"
   ]
  },
  {
   "cell_type": "markdown",
   "id": "9999adc0-afb3-4a7f-8d15-4bd6e03b4272",
   "metadata": {},
   "source": [
    "#### ACE Baseline"
   ]
  },
  {
   "cell_type": "code",
   "execution_count": 30,
   "id": "c776abba-66a9-4feb-912a-b641e256fdad",
   "metadata": {},
   "outputs": [
    {
     "name": "stderr",
     "output_type": "stream",
     "text": [
      "/tmp/ipykernel_591481/1448277295.py:6: PerformanceWarning: DataFrame is highly fragmented.  This is usually the result of calling `frame.insert` many times, which has poor performance.  Consider joining all columns at once using pd.concat(axis=1) instead. To get a de-fragmented frame, use `newframe = frame.copy()`\n",
      "  df_pat_clean[\"t0_ace_p_sum\"] = df_pat_clean[ace_cols].sum(axis=1)\n"
     ]
    }
   ],
   "source": [
    "ace_cols = [f\"t0_ace_p_{i}\" for i in range(1, 11)]\n",
    "\n",
    "# ensure numeric (e.g., \"1\" -> 1; invalid -> NaN)\n",
    "df_pat_clean[ace_cols] = df_pat_clean[ace_cols].apply(pd.to_numeric, errors=\"coerce\")\n",
    "\n",
    "df_pat_clean[\"t0_ace_p_sum\"] = df_pat_clean[ace_cols].sum(axis=1)"
   ]
  },
  {
   "cell_type": "markdown",
   "id": "bf77da24-2aa5-4b0d-bafc-976af1cbb590",
   "metadata": {},
   "source": [
    "#### ASK Baseline"
   ]
  },
  {
   "cell_type": "code",
   "execution_count": 31,
   "id": "e0a1593d-ef33-48e9-8945-d7cec9fe1581",
   "metadata": {},
   "outputs": [
    {
     "name": "stderr",
     "output_type": "stream",
     "text": [
      "/tmp/ipykernel_591481/3480057311.py:4: PerformanceWarning: DataFrame is highly fragmented.  This is usually the result of calling `frame.insert` many times, which has poor performance.  Consider joining all columns at once using pd.concat(axis=1) instead. To get a de-fragmented frame, use `newframe = frame.copy()`\n",
      "  df_pat_clean[\"t0_ask_p_sum\"] = df_pat_clean[ask_cols].sum(axis=1)\n"
     ]
    }
   ],
   "source": [
    "ask_cols = [f\"t0_ask_p_{i}\" for i in range(1, 4)]\n",
    "df_pat_clean[ask_cols] = df_pat_clean[ask_cols].apply(pd.to_numeric, errors=\"coerce\")\n",
    "\n",
    "df_pat_clean[\"t0_ask_p_sum\"] = df_pat_clean[ask_cols].sum(axis=1)"
   ]
  },
  {
   "cell_type": "markdown",
   "id": "76b24036-7abb-4d0e-b949-6b4722d7651e",
   "metadata": {},
   "source": [
    "#### MHSE Baseline"
   ]
  },
  {
   "cell_type": "code",
   "execution_count": 32,
   "id": "5fad03bb-1d5f-4180-8512-ff9c267024b5",
   "metadata": {},
   "outputs": [
    {
     "name": "stderr",
     "output_type": "stream",
     "text": [
      "/tmp/ipykernel_591481/913225046.py:4: PerformanceWarning: DataFrame is highly fragmented.  This is usually the result of calling `frame.insert` many times, which has poor performance.  Consider joining all columns at once using pd.concat(axis=1) instead. To get a de-fragmented frame, use `newframe = frame.copy()`\n",
      "  df_pat_clean[\"t0_mhse_p_sum\"] = df_pat_clean[mhse_cols].sum(axis=1)\n"
     ]
    }
   ],
   "source": [
    "mhse_cols = [f\"t0_mhse_p_{i}\" for i in range(1, 7)]\n",
    "df_pat_clean[mhse_cols] = df_pat_clean[mhse_cols].apply(pd.to_numeric, errors=\"coerce\")\n",
    "\n",
    "df_pat_clean[\"t0_mhse_p_sum\"] = df_pat_clean[mhse_cols].sum(axis=1)"
   ]
  },
  {
   "cell_type": "markdown",
   "id": "4824d850-7dfa-48e7-ad58-e351051bf5c1",
   "metadata": {},
   "source": [
    "### Concatenate patient and therapist df"
   ]
  },
  {
   "cell_type": "code",
   "execution_count": 33,
   "id": "5820a1ab-254f-4e71-a93b-d9b75c488887",
   "metadata": {},
   "outputs": [],
   "source": [
    "df_all = pd.merge(df_pat_clean, df_th, on=\"therapist_id\", how= \"left\", validate = \"many_to_one\")"
   ]
  },
  {
   "cell_type": "code",
   "execution_count": 34,
   "id": "7fc74f49-bcea-4c74-96c5-69fec3454266",
   "metadata": {},
   "outputs": [],
   "source": [
    "patient_numeric=['t0_age_p', 't0_ses_p', 'surveys.t0.answers.1585.discrimination_1', 'surveys.t0.answers.1585.discrimination_2',\n",
    " 'surveys.t0.answers.1585.discrimination_3', 'surveys.t0.answers.1585.discrimination_4', 'surveys.t0.answers.1585.discrimination_5',\n",
    "  't0_phq_p_1', 't0_phq_p_2', 't0_phq_p_3', 't0_phq_p_4', 't0_phq_p_5', 't0_phq_p_6', 't0_phq_p_7', 't0_phq_p_8',\n",
    " 't0_gad_p_1', 't0_gad_p_2', 't0_gad_p_3', 't0_gad_p_4', 't0_gad_p_5', 't0_gad_p_6', 't0_gad_p_7','t0_swls_p_1',\n",
    " 't0_swls_p_2', 't0_swls_p_3', 't0_swls_p_4', 't0_swls_p_5', 't0_aqol_p_1','t0_aqol_p_2', 't0_aqol_p_3',\n",
    " 't0_aqol_p_4', 't0_aqol_p_5', 't0_aqol_p_6', 't0_aqol_p_7', 't0_aqol_p_8', 't0_aqol_p_9', 't0_aqol_p_10',\n",
    " 't0_aqol_p_11', 't0_aqol_p_12', 't0_aqol_p_13', 't0_aqol_p_14', 't0_aqol_p_15', 't0_aqol_p_16', 't0_aqol_p_17',\n",
    " 't0_aqol_p_18', 't0_aqol_p_19', 't0_aqol_p_20', 't0_aqol_p_21', 't0_aqol_p_22', 't0_aqol_p_23', 't0_aqol_p_24',\n",
    " 't0_aqol_p_25', 't0_aqol_p_26', 't0_aqol_p_27', 't0_aqol_p_28', 't0_aqol_p_29', 't0_aqol_p_30', 't0_aqol_p_31',\n",
    " 't0_aqol_p_32', 't0_aqol_p_33', 't0_aqol_p_34', 't0_aqol_p_35', 't0_audit_p_1', 't0_audit_p_2', 't0_audit_p_3',\n",
    "  't0_dudit_p_1', 't0_dudit_p_2', 't0_dudit_p_3', 't0_dudit_p_4', 't0_msfq_p_1', 't0_msfq_p_2', 't0_msfq_p_3',\n",
    " 't0_msfq_p_4', 't0_msfq_p_5', 't0_pid_p_1', 't0_pid_p_2', 't0_pid_p_3', 't0_pid_p_4', 't0_pid_p_5', 't0_pid_p_6',\n",
    " 't0_pid_p_7', 't0_pid_p_8', 't0_pid_p_9', 't0_pid_p_10', 't0_pid_p_11', 't0_pid_p_12', 't0_pid_p_13', 't0_pid_p_14',\n",
    " 't0_pid_p_15', 't0_pid_p_16', 't0_pid_p_17', 't0_pid_p_18', 't0_pid_p_19', 't0_pid_p_20', 't0_pid_p_21',\n",
    " 't0_pid_p_22', 't0_pid_p_23', 't0_pid_p_24', 't0_pid_p_25', 't0_pid_p_26', 't0_pid_p_27', 't0_pid_p_28',\n",
    " 't0_pid_p_29', 't0_pid_p_30', 't0_pid_p_31', 't0_pid_p_32', 't0_pid_p_33', 't0_pid_p_34', 't0_pid_p_35',\n",
    " 't0_pid_p_36', 't0_opd_p_1', 't0_opd_p_2', 't0_opd_p_3', 't0_opd_p_4', 't0_opd_p_5', 't0_opd_p_6', 't0_opd_p_7',\n",
    " 't0_opd_p_8', 't0_opd_p_9', 't0_opd_p_10', 't0_opd_p_11', 't0_opd_p_12', 't0_ace_p_1', 't0_ace_p_2',\n",
    " 't0_ace_p_3', 't0_ace_p_4', 't0_ace_p_5', 't0_ace_p_6', 't0_ace_p_7', 't0_ace_p_8', 't0_ace_p_9', 't0_ace_p_10',\n",
    " 't0_ask_p_1', 't0_ask_p_2', 't0_ask_p_3', 't0_mhse_p_1', 't0_mhse_p_2', 't0_mhse_p_3', 't0_mhse_p_4', 't0_mhse_p_5',\n",
    " 't0_mhse_p_6', 't0_change_p_1', 't0_change_p_2', 't0_dropout_p', 't0_phq8_p_sum', 't0_gad7_p_sum', 't0_swls_p_sum',\n",
    " 't0_aqol_p_coping','t0_aqol_p_relationship', 't0_aqol_p_independent_living', 't0_aqol_p_mental_health',\n",
    " 't0_aqol_p_pain', 't0_aqol_p_self_worth', 't0_aqol_p_happiness', 't0_aqol_p_senses', 't0_audit_p_sum',\n",
    " 't0_dudit_p_sum', 't0_msfq_p_sum', 't0_pid_p_negative_affect', 't0_pid_p_antagonism', 't0_pid_p_disinhibition',\n",
    " 't0_pid_p_detachment', 't0_pid_p_psychoticism', 't0_pid_p_anankastia', 't0_opd_p_self', 't0_opd_p_contact',\n",
    " 't0_opd_p_relationship', 't0_ace_p_sum', 't0_ask_p_sum', 't0_mhse_p_sum']\n",
    "\n",
    "patient_categorical=['t0_gender_p', 't0_school_p', 't0_employment_p', 't0_location_p', 't0_therapy_p_1', 't0_therapy_p_2',\n",
    " 't0_therapy_p_3', 't0_familyhistory_p', 't0_meds_p', 't0_relationship_p', 't0_migration_p_1',\n",
    " 't0_migration_p_2', 't0_migration_p_3', 't0_disease_p_A', 't0_disease_p_B', 't0_disease_p_C',\n",
    " 't0_disease_p_D', 't0_disease_p_E', 't0_disease_p_F', 't0_disease_p_G']"
   ]
  },
  {
   "cell_type": "code",
   "execution_count": 35,
   "id": "b7882d1d-32d1-4fde-8523-073c5aadc2d4",
   "metadata": {},
   "outputs": [
    {
     "data": {
      "text/html": [
       "<div>\n",
       "<style scoped>\n",
       "    .dataframe tbody tr th:only-of-type {\n",
       "        vertical-align: middle;\n",
       "    }\n",
       "\n",
       "    .dataframe tbody tr th {\n",
       "        vertical-align: top;\n",
       "    }\n",
       "\n",
       "    .dataframe thead th {\n",
       "        text-align: right;\n",
       "    }\n",
       "</style>\n",
       "<table border=\"1\" class=\"dataframe\">\n",
       "  <thead>\n",
       "    <tr style=\"text-align: right;\">\n",
       "      <th></th>\n",
       "      <th>n_nan</th>\n",
       "      <th>pct_nan</th>\n",
       "    </tr>\n",
       "  </thead>\n",
       "  <tbody>\n",
       "    <tr>\n",
       "      <th>t0_therapy_p_3</th>\n",
       "      <td>459</td>\n",
       "      <td>47.515528</td>\n",
       "    </tr>\n",
       "    <tr>\n",
       "      <th>t0_pid_p_23</th>\n",
       "      <td>309</td>\n",
       "      <td>31.987578</td>\n",
       "    </tr>\n",
       "    <tr>\n",
       "      <th>t0_pid_p_25</th>\n",
       "      <td>309</td>\n",
       "      <td>31.987578</td>\n",
       "    </tr>\n",
       "    <tr>\n",
       "      <th>t0_pid_p_26</th>\n",
       "      <td>309</td>\n",
       "      <td>31.987578</td>\n",
       "    </tr>\n",
       "    <tr>\n",
       "      <th>t0_pid_p_27</th>\n",
       "      <td>309</td>\n",
       "      <td>31.987578</td>\n",
       "    </tr>\n",
       "    <tr>\n",
       "      <th>t0_pid_p_24</th>\n",
       "      <td>309</td>\n",
       "      <td>31.987578</td>\n",
       "    </tr>\n",
       "    <tr>\n",
       "      <th>t0_pid_p_33</th>\n",
       "      <td>309</td>\n",
       "      <td>31.987578</td>\n",
       "    </tr>\n",
       "    <tr>\n",
       "      <th>t0_pid_p_30</th>\n",
       "      <td>309</td>\n",
       "      <td>31.987578</td>\n",
       "    </tr>\n",
       "    <tr>\n",
       "      <th>t0_pid_p_31</th>\n",
       "      <td>309</td>\n",
       "      <td>31.987578</td>\n",
       "    </tr>\n",
       "    <tr>\n",
       "      <th>t0_pid_p_32</th>\n",
       "      <td>309</td>\n",
       "      <td>31.987578</td>\n",
       "    </tr>\n",
       "    <tr>\n",
       "      <th>t0_pid_p_20</th>\n",
       "      <td>309</td>\n",
       "      <td>31.987578</td>\n",
       "    </tr>\n",
       "    <tr>\n",
       "      <th>t0_pid_p_21</th>\n",
       "      <td>309</td>\n",
       "      <td>31.987578</td>\n",
       "    </tr>\n",
       "    <tr>\n",
       "      <th>t0_pid_p_35</th>\n",
       "      <td>309</td>\n",
       "      <td>31.987578</td>\n",
       "    </tr>\n",
       "    <tr>\n",
       "      <th>t0_pid_p_28</th>\n",
       "      <td>309</td>\n",
       "      <td>31.987578</td>\n",
       "    </tr>\n",
       "    <tr>\n",
       "      <th>t0_pid_p_29</th>\n",
       "      <td>309</td>\n",
       "      <td>31.987578</td>\n",
       "    </tr>\n",
       "    <tr>\n",
       "      <th>t0_pid_p_22</th>\n",
       "      <td>309</td>\n",
       "      <td>31.987578</td>\n",
       "    </tr>\n",
       "    <tr>\n",
       "      <th>t0_pid_p_19</th>\n",
       "      <td>309</td>\n",
       "      <td>31.987578</td>\n",
       "    </tr>\n",
       "    <tr>\n",
       "      <th>t0_pid_p_36</th>\n",
       "      <td>309</td>\n",
       "      <td>31.987578</td>\n",
       "    </tr>\n",
       "    <tr>\n",
       "      <th>t0_pid_p_34</th>\n",
       "      <td>309</td>\n",
       "      <td>31.987578</td>\n",
       "    </tr>\n",
       "    <tr>\n",
       "      <th>t0_pid_p_18</th>\n",
       "      <td>279</td>\n",
       "      <td>28.881988</td>\n",
       "    </tr>\n",
       "    <tr>\n",
       "      <th>t0_aqol_p_22</th>\n",
       "      <td>9</td>\n",
       "      <td>0.931677</td>\n",
       "    </tr>\n",
       "    <tr>\n",
       "      <th>t0_aqol_p_23</th>\n",
       "      <td>9</td>\n",
       "      <td>0.931677</td>\n",
       "    </tr>\n",
       "    <tr>\n",
       "      <th>t0_aqol_p_27</th>\n",
       "      <td>9</td>\n",
       "      <td>0.931677</td>\n",
       "    </tr>\n",
       "    <tr>\n",
       "      <th>t0_aqol_p_34</th>\n",
       "      <td>9</td>\n",
       "      <td>0.931677</td>\n",
       "    </tr>\n",
       "    <tr>\n",
       "      <th>t0_aqol_p_33</th>\n",
       "      <td>9</td>\n",
       "      <td>0.931677</td>\n",
       "    </tr>\n",
       "    <tr>\n",
       "      <th>t0_aqol_p_32</th>\n",
       "      <td>9</td>\n",
       "      <td>0.931677</td>\n",
       "    </tr>\n",
       "    <tr>\n",
       "      <th>t0_aqol_p_24</th>\n",
       "      <td>9</td>\n",
       "      <td>0.931677</td>\n",
       "    </tr>\n",
       "    <tr>\n",
       "      <th>t0_aqol_p_25</th>\n",
       "      <td>9</td>\n",
       "      <td>0.931677</td>\n",
       "    </tr>\n",
       "    <tr>\n",
       "      <th>t0_aqol_p_26</th>\n",
       "      <td>9</td>\n",
       "      <td>0.931677</td>\n",
       "    </tr>\n",
       "    <tr>\n",
       "      <th>t0_aqol_p_35</th>\n",
       "      <td>9</td>\n",
       "      <td>0.931677</td>\n",
       "    </tr>\n",
       "    <tr>\n",
       "      <th>t0_aqol_p_20</th>\n",
       "      <td>9</td>\n",
       "      <td>0.931677</td>\n",
       "    </tr>\n",
       "    <tr>\n",
       "      <th>t0_aqol_p_21</th>\n",
       "      <td>9</td>\n",
       "      <td>0.931677</td>\n",
       "    </tr>\n",
       "    <tr>\n",
       "      <th>t0_aqol_p_14</th>\n",
       "      <td>9</td>\n",
       "      <td>0.931677</td>\n",
       "    </tr>\n",
       "    <tr>\n",
       "      <th>t0_aqol_p_15</th>\n",
       "      <td>9</td>\n",
       "      <td>0.931677</td>\n",
       "    </tr>\n",
       "    <tr>\n",
       "      <th>t0_aqol_p_16</th>\n",
       "      <td>9</td>\n",
       "      <td>0.931677</td>\n",
       "    </tr>\n",
       "    <tr>\n",
       "      <th>t0_aqol_p_17</th>\n",
       "      <td>9</td>\n",
       "      <td>0.931677</td>\n",
       "    </tr>\n",
       "    <tr>\n",
       "      <th>t0_aqol_p_18</th>\n",
       "      <td>9</td>\n",
       "      <td>0.931677</td>\n",
       "    </tr>\n",
       "    <tr>\n",
       "      <th>t0_aqol_p_19</th>\n",
       "      <td>9</td>\n",
       "      <td>0.931677</td>\n",
       "    </tr>\n",
       "    <tr>\n",
       "      <th>t0_aqol_p_12</th>\n",
       "      <td>9</td>\n",
       "      <td>0.931677</td>\n",
       "    </tr>\n",
       "    <tr>\n",
       "      <th>t0_aqol_p_13</th>\n",
       "      <td>9</td>\n",
       "      <td>0.931677</td>\n",
       "    </tr>\n",
       "    <tr>\n",
       "      <th>t0_aqol_p_senses</th>\n",
       "      <td>9</td>\n",
       "      <td>0.931677</td>\n",
       "    </tr>\n",
       "    <tr>\n",
       "      <th>t0_aqol_p_happiness</th>\n",
       "      <td>9</td>\n",
       "      <td>0.931677</td>\n",
       "    </tr>\n",
       "    <tr>\n",
       "      <th>t0_aqol_p_31</th>\n",
       "      <td>9</td>\n",
       "      <td>0.931677</td>\n",
       "    </tr>\n",
       "    <tr>\n",
       "      <th>t0_aqol_p_30</th>\n",
       "      <td>9</td>\n",
       "      <td>0.931677</td>\n",
       "    </tr>\n",
       "    <tr>\n",
       "      <th>t0_aqol_p_29</th>\n",
       "      <td>9</td>\n",
       "      <td>0.931677</td>\n",
       "    </tr>\n",
       "    <tr>\n",
       "      <th>t0_aqol_p_28</th>\n",
       "      <td>9</td>\n",
       "      <td>0.931677</td>\n",
       "    </tr>\n",
       "    <tr>\n",
       "      <th>t0_aqol_p_11</th>\n",
       "      <td>9</td>\n",
       "      <td>0.931677</td>\n",
       "    </tr>\n",
       "    <tr>\n",
       "      <th>t0_aqol_p_2</th>\n",
       "      <td>0</td>\n",
       "      <td>0.000000</td>\n",
       "    </tr>\n",
       "    <tr>\n",
       "      <th>t0_aqol_p_3</th>\n",
       "      <td>0</td>\n",
       "      <td>0.000000</td>\n",
       "    </tr>\n",
       "    <tr>\n",
       "      <th>t0_swls_p_5</th>\n",
       "      <td>0</td>\n",
       "      <td>0.000000</td>\n",
       "    </tr>\n",
       "  </tbody>\n",
       "</table>\n",
       "</div>"
      ],
      "text/plain": [
       "                     n_nan    pct_nan\n",
       "t0_therapy_p_3         459  47.515528\n",
       "t0_pid_p_23            309  31.987578\n",
       "t0_pid_p_25            309  31.987578\n",
       "t0_pid_p_26            309  31.987578\n",
       "t0_pid_p_27            309  31.987578\n",
       "t0_pid_p_24            309  31.987578\n",
       "t0_pid_p_33            309  31.987578\n",
       "t0_pid_p_30            309  31.987578\n",
       "t0_pid_p_31            309  31.987578\n",
       "t0_pid_p_32            309  31.987578\n",
       "t0_pid_p_20            309  31.987578\n",
       "t0_pid_p_21            309  31.987578\n",
       "t0_pid_p_35            309  31.987578\n",
       "t0_pid_p_28            309  31.987578\n",
       "t0_pid_p_29            309  31.987578\n",
       "t0_pid_p_22            309  31.987578\n",
       "t0_pid_p_19            309  31.987578\n",
       "t0_pid_p_36            309  31.987578\n",
       "t0_pid_p_34            309  31.987578\n",
       "t0_pid_p_18            279  28.881988\n",
       "t0_aqol_p_22             9   0.931677\n",
       "t0_aqol_p_23             9   0.931677\n",
       "t0_aqol_p_27             9   0.931677\n",
       "t0_aqol_p_34             9   0.931677\n",
       "t0_aqol_p_33             9   0.931677\n",
       "t0_aqol_p_32             9   0.931677\n",
       "t0_aqol_p_24             9   0.931677\n",
       "t0_aqol_p_25             9   0.931677\n",
       "t0_aqol_p_26             9   0.931677\n",
       "t0_aqol_p_35             9   0.931677\n",
       "t0_aqol_p_20             9   0.931677\n",
       "t0_aqol_p_21             9   0.931677\n",
       "t0_aqol_p_14             9   0.931677\n",
       "t0_aqol_p_15             9   0.931677\n",
       "t0_aqol_p_16             9   0.931677\n",
       "t0_aqol_p_17             9   0.931677\n",
       "t0_aqol_p_18             9   0.931677\n",
       "t0_aqol_p_19             9   0.931677\n",
       "t0_aqol_p_12             9   0.931677\n",
       "t0_aqol_p_13             9   0.931677\n",
       "t0_aqol_p_senses         9   0.931677\n",
       "t0_aqol_p_happiness      9   0.931677\n",
       "t0_aqol_p_31             9   0.931677\n",
       "t0_aqol_p_30             9   0.931677\n",
       "t0_aqol_p_29             9   0.931677\n",
       "t0_aqol_p_28             9   0.931677\n",
       "t0_aqol_p_11             9   0.931677\n",
       "t0_aqol_p_2              0   0.000000\n",
       "t0_aqol_p_3              0   0.000000\n",
       "t0_swls_p_5              0   0.000000"
      ]
     },
     "execution_count": 35,
     "metadata": {},
     "output_type": "execute_result"
    }
   ],
   "source": [
    "miss_summary = (df_all[patient_numeric + patient_categorical]\n",
    "                .isna()\n",
    "                .sum()\n",
    "                .rename(\"n_nan\")\n",
    "                .to_frame())\n",
    "miss_summary[\"pct_nan\"] = miss_summary[\"n_nan\"] / len(df_all) * 100\n",
    "miss_summary.sort_values(\"pct_nan\", ascending=False).head(50)\n"
   ]
  },
  {
   "cell_type": "code",
   "execution_count": 36,
   "id": "7882538f-5f8e-4587-adc9-6eb04e3ae309",
   "metadata": {},
   "outputs": [],
   "source": [
    "therapist_numeric= ['t0_age_t','t0_experience_t', 't0_bfi_t_1','t0_bfi_t_2','t0_bfi_t_3','t0_bfi_t_4','t0_bfi_t_5','t0_bfi_t_6','t0_bfi_t_7','t0_bfi_t_8','t0_bfi_t_9','t0_bfi_t_10',\n",
    "                       't0_bfi_t_extraversion', 't0_bfi_t_agreeableness', 't0_bfi_t_conscientiousness', 't0_bfi_t_neuroticism', 't0_bfi_t_openness']\n",
    "    \n",
    "therapist_categorical= ['t0_method_t_CBT','t0_method_t_PDT','t0_method_t_ST','t0_method_t_AP', 't0_appliedmethod_t_VT', 't0_appliedmethod_t_TP','t0_appliedmethod_t_AP',\n",
    "                            't0_appliedmethod_t_ST','t0_appliedmethod_t_Other','t0_location_t','t0_gender_t','t0_relationship_t','t0_sexualorientation_t','t0_children_t']"
   ]
  },
  {
   "cell_type": "markdown",
   "id": "512f3cac-8ea9-4e24-a16e-4990bb20d13f",
   "metadata": {},
   "source": [
    "#### Remove therapists with missing side features"
   ]
  },
  {
   "cell_type": "code",
   "execution_count": 37,
   "id": "3ee6fbcb-4733-4285-897b-fa0ef056dde8",
   "metadata": {},
   "outputs": [],
   "source": [
    "df_all = df_all.loc[df_all.t0_age_t.notna()]"
   ]
  },
  {
   "cell_type": "markdown",
   "id": "f5062aed-171d-430d-a237-727a787da649",
   "metadata": {},
   "source": [
    "### 2.2 Run Model"
   ]
  },
  {
   "cell_type": "code",
   "execution_count": 38,
   "id": "79d96090-50c6-4708-8660-f07953d2e169",
   "metadata": {},
   "outputs": [],
   "source": [
    "cfg = MatchConfig(\n",
    "     PATIENT_ID_COL= \"patient_id\",\n",
    "     THERAPIST_ID_COL= \"therapist_id\",\n",
    "     DATE_COL= \"u_registrationDate_p\",\n",
    "     LABEL_COL= \"change_distress\",\n",
    "     patient_numeric= ['t0_age_p', 't0_ses_p', 'surveys.t0.answers.1585.discrimination_1', 'surveys.t0.answers.1585.discrimination_2',\n",
    "         'surveys.t0.answers.1585.discrimination_3', 'surveys.t0.answers.1585.discrimination_4', 'surveys.t0.answers.1585.discrimination_5',\n",
    "          't0_phq_p_1', 't0_phq_p_2', 't0_phq_p_3', 't0_phq_p_4', 't0_phq_p_5', 't0_phq_p_6', 't0_phq_p_7', 't0_phq_p_8',\n",
    "         't0_gad_p_1', 't0_gad_p_2', 't0_gad_p_3', 't0_gad_p_4', 't0_gad_p_5', 't0_gad_p_6', 't0_gad_p_7','t0_swls_p_1',\n",
    "         't0_swls_p_2', 't0_swls_p_3', 't0_swls_p_4', 't0_swls_p_5', 't0_aqol_p_1','t0_aqol_p_2', 't0_aqol_p_3',\n",
    "         't0_aqol_p_4', 't0_aqol_p_5', 't0_aqol_p_6', 't0_aqol_p_7', 't0_aqol_p_8', 't0_aqol_p_9', 't0_aqol_p_10',\n",
    "         't0_aqol_p_11', 't0_aqol_p_12', 't0_aqol_p_13', 't0_aqol_p_14', 't0_aqol_p_15', 't0_aqol_p_16', 't0_aqol_p_17',\n",
    "         't0_aqol_p_18', 't0_aqol_p_19', 't0_aqol_p_20', 't0_aqol_p_21', 't0_aqol_p_22', 't0_aqol_p_23', 't0_aqol_p_24',\n",
    "         't0_aqol_p_25', 't0_aqol_p_26', 't0_aqol_p_27', 't0_aqol_p_28', 't0_aqol_p_29', 't0_aqol_p_30', 't0_aqol_p_31',\n",
    "         't0_aqol_p_32', 't0_aqol_p_33', 't0_aqol_p_34', 't0_aqol_p_35', 't0_audit_p_1', 't0_audit_p_2', 't0_audit_p_3',\n",
    "        't0_dudit_p_1', 't0_dudit_p_2', 't0_dudit_p_3', 't0_dudit_p_4', 't0_msfq_p_1', 't0_msfq_p_2', 't0_msfq_p_3',\n",
    "         't0_msfq_p_4', 't0_msfq_p_5', 't0_pid_p_1', 't0_pid_p_2', 't0_pid_p_3', 't0_pid_p_4', 't0_pid_p_5', 't0_pid_p_6',\n",
    "        't0_pid_p_7', 't0_pid_p_8', 't0_pid_p_9', 't0_pid_p_10', 't0_pid_p_11', 't0_pid_p_12', 't0_pid_p_13', 't0_pid_p_14',\n",
    "         't0_pid_p_15', 't0_pid_p_16', 't0_pid_p_17', 't0_pid_p_18', 't0_pid_p_19', 't0_pid_p_20', 't0_pid_p_21',\n",
    "         't0_pid_p_22', 't0_pid_p_23', 't0_pid_p_24', 't0_pid_p_25', 't0_pid_p_26', 't0_pid_p_27', 't0_pid_p_28',\n",
    "         't0_pid_p_29', 't0_pid_p_30', 't0_pid_p_31', 't0_pid_p_32', 't0_pid_p_33', 't0_pid_p_34', 't0_pid_p_35',\n",
    "         't0_pid_p_36', 't0_opd_p_1', 't0_opd_p_2', 't0_opd_p_3', 't0_opd_p_4', 't0_opd_p_5', 't0_opd_p_6', 't0_opd_p_7',\n",
    "         't0_opd_p_8', 't0_opd_p_9', 't0_opd_p_10', 't0_opd_p_11', 't0_opd_p_12', 't0_ace_p_1', 't0_ace_p_2',\n",
    "         't0_ace_p_3', 't0_ace_p_4', 't0_ace_p_5', 't0_ace_p_6', 't0_ace_p_7', 't0_ace_p_8', 't0_ace_p_9', 't0_ace_p_10',\n",
    "         't0_ask_p_1', 't0_ask_p_2', 't0_ask_p_3', 't0_mhse_p_1', 't0_mhse_p_2', 't0_mhse_p_3', 't0_mhse_p_4', 't0_mhse_p_5',\n",
    "         't0_mhse_p_6', 't0_change_p_1', 't0_change_p_2', 't0_dropout_p', 't0_phq8_p_sum', 't0_gad7_p_sum', 't0_swls_p_sum',\n",
    "         't0_aqol_p_coping','t0_aqol_p_relationship', 't0_aqol_p_independent_living', 't0_aqol_p_mental_health',\n",
    "         't0_aqol_p_pain', 't0_aqol_p_self_worth', 't0_aqol_p_happiness', 't0_aqol_p_senses', 't0_audit_p_sum',\n",
    "         't0_dudit_p_sum', 't0_msfq_p_sum', 't0_pid_p_negative_affect', 't0_pid_p_antagonism', 't0_pid_p_disinhibition',\n",
    "         't0_pid_p_detachment', 't0_pid_p_psychoticism', 't0_pid_p_anankastia', 't0_opd_p_self', 't0_opd_p_contact',\n",
    "         't0_opd_p_relationship', 't0_ace_p_sum', 't0_ask_p_sum', 't0_mhse_p_sum'],\n",
    "    \n",
    "     patient_categorical= ['t0_gender_p', 't0_school_p', 't0_employment_p', 't0_location_p', 't0_therapy_p_1', 't0_therapy_p_2', 't0_familyhistory_p', 't0_meds_p', 't0_relationship_p', 't0_migration_p_1',\n",
    "                         't0_migration_p_2', 't0_migration_p_3', 't0_disease_p_A', 't0_disease_p_B', 't0_disease_p_C','t0_disease_p_D', 't0_disease_p_E', 't0_disease_p_F', 't0_disease_p_G'],\n",
    "    \n",
    "     therapist_numeric= ['t0_age_t','t0_experience_t', 't0_bfi_t_1','t0_bfi_t_2','t0_bfi_t_3','t0_bfi_t_4','t0_bfi_t_5','t0_bfi_t_6','t0_bfi_t_7','t0_bfi_t_8','t0_bfi_t_9','t0_bfi_t_10',\n",
    "                       't0_bfi_t_extraversion', 't0_bfi_t_agreeableness', 't0_bfi_t_conscientiousness', 't0_bfi_t_neuroticism', 't0_bfi_t_openness'],\n",
    "    \n",
    "     therapist_categorical= ['t0_method_t_CBT','t0_method_t_PDT','t0_method_t_ST','t0_method_t_AP', 't0_appliedmethod_t_VT', 't0_appliedmethod_t_TP','t0_appliedmethod_t_AP',\n",
    "                            't0_appliedmethod_t_ST','t0_appliedmethod_t_Other','t0_location_t','t0_gender_t','t0_relationship_t','t0_sexualorientation_t','t0_children_t'],\n",
    "     include_therapist_id_feature= True,\n",
    "     impute_strategy= \"median\"\n",
    "\n",
    " )"
   ]
  },
  {
   "cell_type": "code",
   "execution_count": null,
   "id": "c6c32ec7-c446-4ff0-9ae8-f1d8b2179cd8",
   "metadata": {},
   "outputs": [
    {
     "name": "stdout",
     "output_type": "stream",
     "text": [
      "2025-08-27 11:00:06,440 [INFO] Match_Pipeline: date: parsing 'u_registrationDate_p' (dayfirst=True, format=None)\n",
      "2025-08-27 11:00:06,618 [INFO] Match_Pipeline: Therapists: 174 | Train: 656 | Val: 142 | Test: 159\n",
      "2025-08-27 11:00:06,620 [INFO] Match_Pipeline: candidates: 174 therapists in train\n",
      "2025-08-27 11:00:06,625 [INFO] Match_Pipeline: matrices: X_train=(656, 222), X_val=(142, 222)\n",
      "2025-08-27 11:00:06,627 [INFO] Match_Pipeline: preprocessor: building (imputer=median)\n",
      "2025-08-27 11:00:06,627 [INFO] Match_Pipeline: preprocessor: building (imputer=median)\n",
      "2025-08-27 11:00:06,628 [INFO] Match_Pipeline: scoring: using Ordinal Log-Likelihood(rank ~ outcome).\n"
     ]
    }
   ],
   "source": [
    "results = run_pipeline(df_all, cfg)\n",
    "results[\"summary\"]"
   ]
  },
  {
   "cell_type": "code",
   "execution_count": null,
   "id": "1bf5f2ea-ce91-4d51-a6d5-473729f42c25",
   "metadata": {},
   "outputs": [],
   "source": []
  }
 ],
 "metadata": {
  "kernelspec": {
   "display_name": "Python (torchenv)",
   "language": "python",
   "name": "torchenv"
  },
  "language_info": {
   "codemirror_mode": {
    "name": "ipython",
    "version": 3
   },
   "file_extension": ".py",
   "mimetype": "text/x-python",
   "name": "python",
   "nbconvert_exporter": "python",
   "pygments_lexer": "ipython3",
   "version": "3.10.14"
  }
 },
 "nbformat": 4,
 "nbformat_minor": 5
}

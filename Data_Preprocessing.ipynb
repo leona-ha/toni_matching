{
 "cells": [
  {
   "cell_type": "code",
   "execution_count": 1,
   "id": "70475827-bdae-4004-a3d4-f51775064489",
   "metadata": {},
   "outputs": [],
   "source": [
    "import pandas as pd\n",
    "import ast\n",
    "import numpy as np"
   ]
  },
  {
   "cell_type": "code",
   "execution_count": 2,
   "id": "4a153833-286b-4899-9c28-0eec95a73901",
   "metadata": {},
   "outputs": [],
   "source": [
    "from server_config import DATA_PATH"
   ]
  },
  {
   "cell_type": "markdown",
   "id": "3ec72750-2ea2-4fdb-8537-c80922568a4f",
   "metadata": {},
   "source": [
    "### 1. Therapist data"
   ]
  },
  {
   "cell_type": "code",
   "execution_count": 3,
   "id": "c57bcfcf-cbe4-438d-ae98-381dc4b27c2f",
   "metadata": {},
   "outputs": [],
   "source": [
    "df_th = pd.read_csv(DATA_PATH + \"/df_th_nopr_experience_corrected_200624_LB.csv\", sep=\";\",low_memory = \"False\")"
   ]
  },
  {
   "cell_type": "code",
   "execution_count": 4,
   "id": "16a2cc3a-f7de-4345-a0da-0d019e33d980",
   "metadata": {},
   "outputs": [],
   "source": [
    "keep_cols_th = ['therapist_id', 't0_method_t_CBT','t0_method_t_PDT','t0_method_t_ST','t0_method_t_AP', 't0_appliedmethod_t_VT', 't0_appliedmethod_t_TP',\n",
    "             't0_appliedmethod_t_AP', 't0_appliedmethod_t_ST','t0_appliedmethod_t_Other','t0_location_t','t0_gender_t',\n",
    " 't0_relationship_t','t0_sexualorientation_t','t0_children_t','t0_age_t', 't0_experience_t','t0_license_t', 't0_bfi_t_1',\n",
    " 't0_bfi_t_2','t0_bfi_t_3','t0_bfi_t_4','t0_bfi_t_5','t0_bfi_t_6','t0_bfi_t_7','t0_bfi_t_8','t0_bfi_t_9','t0_bfi_t_10',]"
   ]
  },
  {
   "cell_type": "code",
   "execution_count": 5,
   "id": "f369cb63-1e52-497f-80a2-032723ebe0c7",
   "metadata": {},
   "outputs": [],
   "source": [
    "labels = [\"VT\", \"TP\", \"AP\", \"ST\", \"Other\"]  \n",
    "\n",
    "col = df_th[\"t0_appliedmethod_t_A\"]\n",
    "\n",
    "# 1) Parse strings like \"[True, False, ...]\" -> list\n",
    "col = col.map(lambda x: ast.literal_eval(x) if isinstance(x, str) else x)\n",
    "\n",
    "# 2) Unwrap nested lists like [[True, False, ...]] -> [True, False, ...]\n",
    "col = col.map(lambda x: x[0] if isinstance(x, (list, tuple)) and len(x) == 1 and isinstance(x[0], (list, tuple)) else x)\n",
    "\n",
    "# 3) Safety: replace missing/invalid with all-False (or raise if you prefer)\n",
    "def ensure_five(x):\n",
    "    if isinstance(x, (list, tuple)) and len(x) == 5:\n",
    "        return list(x)\n",
    "    if pd.isna(x):\n",
    "        return [False]*5\n",
    "\n",
    "col = col.map(ensure_five)\n",
    "\n",
    "# 4) Build the indicator columns\n",
    "method_df = (\n",
    "    pd.DataFrame(col.tolist(), index=df_th.index, columns=labels)\n",
    "      .astype(int)\n",
    "      .add_prefix(\"t0_appliedmethod_t_\")\n",
    ")"
   ]
  },
  {
   "cell_type": "code",
   "execution_count": 6,
   "id": "4a0fec93-648a-4e04-96cc-f782a3304c43",
   "metadata": {},
   "outputs": [],
   "source": [
    "df_th = df_th.join(method_df)\n"
   ]
  },
  {
   "cell_type": "code",
   "execution_count": 7,
   "id": "4c0b794e-f86f-4aa1-bf51-17724f7060be",
   "metadata": {},
   "outputs": [],
   "source": [
    "df_th = df_th[keep_cols_th]"
   ]
  },
  {
   "cell_type": "code",
   "execution_count": null,
   "id": "fe146d5e-73f2-43ac-a0fa-05b67af6fd4c",
   "metadata": {},
   "outputs": [],
   "source": [
    "# BFI-10 items (1–5), reverse-code, then build subscale SUMS using df_th and t0-prefix\n",
    "bfi_items = [f\"t0_bfi_t_{i}\" for i in range(1, 11)]\n",
    "df_th[bfi_items] = df_th[bfi_items].apply(pd.to_numeric, errors=\"coerce\")\n",
    "\n",
    "# Reverse-coded items: 1, 3, 4, 5, 7\n",
    "rev_items = [\"t0_bfi_t_1\", \"t0_bfi_t_3\", \"t0_bfi_t_4\", \"t0_bfi_t_5\", \"t0_bfi_t_7\"]\n",
    "for c in rev_items:\n",
    "    df_th[c + \"_r\"] = 6 - df_th[c]\n",
    "\n",
    "# Subscale sums (2 items each)\n",
    "df_th[\"t0_bfi_t_extraversion\"]     = df_th[[\"t0_bfi_t_1_r\", \"t0_bfi_t_6\"]].sum(axis=1)\n",
    "df_th[\"t0_bfi_t_agreeableness\"]    = df_th[[\"t0_bfi_t_2\",   \"t0_bfi_t_7_r\"]].sum(axis=1)\n",
    "df_th[\"t0_bfi_t_conscientiousness\"]= df_th[[\"t0_bfi_t_3_r\", \"t0_bfi_t_8\"]].sum(axis=1)\n",
    "df_th[\"t0_bfi_t_neuroticism\"]      = df_th[[\"t0_bfi_t_4_r\", \"t0_bfi_t_9\"]].sum(axis=1)\n",
    "df_th[\"t0_bfi_t_openness\"]         = df_th[[\"t0_bfi_t_5_r\", \"t0_bfi_t_10\"]].sum(axis=1)\n",
    "\n",
    "# (Optional) drop helper reverse-coded columns:\n",
    "df_th.drop(columns=[c + \"_r\" for c in rev_items], inplace=True)\n"
   ]
  },
  {
   "cell_type": "markdown",
   "id": "4e1bc463-e6c3-407b-ae58-ef41d4f638fc",
   "metadata": {},
   "source": [
    "### 2. Patient data"
   ]
  },
  {
   "cell_type": "code",
   "execution_count": 8,
   "id": "ec864bb6-c2c6-4949-92c1-ea90a599345c",
   "metadata": {},
   "outputs": [],
   "source": [
    "df_pat = pd.read_json(DATA_PATH + \"/TONI_pat_corrected_20241025_raw.json\")"
   ]
  },
  {
   "cell_type": "code",
   "execution_count": 9,
   "id": "597dd938-de52-48cc-86cc-9c6da6fbe8f3",
   "metadata": {},
   "outputs": [],
   "source": [
    "df_pat = df_pat.drop(columns=[c for c in df_pat.columns if c.startswith(('t2','t3','t4','u_','w', 'dropout'))])"
   ]
  },
  {
   "cell_type": "code",
   "execution_count": 10,
   "id": "d5478d86-39e8-47f8-81c2-21fd6c02d2b1",
   "metadata": {},
   "outputs": [],
   "source": [
    "keep_cols = (\n",
    "    # IDs / study\n",
    "    ['patient_id', 'therapist_id'] +\n",
    "\n",
    "    # Demographics / baseline\n",
    "    ['t0_age_p','t0_gender_p','t0_school_p','t0_employment_p','t0_location_p'] +\n",
    "    [f\"t0_therapy_p_{i}\" for i in range(1, 4)] +\n",
    "    ['t0_familyhistory_p','t0_meds_p','t0_relationship_p','t0_ses_p','t0_distance_p'] +\n",
    "    [f\"t0_migration_p_{i}\" for i in range(1, 4)] +\n",
    "    [f\"surveys.t0.answers.1585.discrimination_{i}\" for i in range(1, 6)] +\n",
    "    [f\"t0_disease_p_{c}\" for c in list('ABCDEFG')] +\n",
    "\n",
    "    # t0 scales\n",
    "    [f\"t0_phq_p_{i}\" for i in range(1, 9)] +\n",
    "    [f\"t0_gad_p_{i}\" for i in range(1, 7+1)] +\n",
    "    [f\"t0_swls_p_{i}\" for i in range(1, 5+1)] +\n",
    "    [f\"t0_aqol_p_{i}\" for i in range(1, 35+1)] +\n",
    "    [f\"t0_ede_p_{i}\" for i in range(1, 8+1)] +\n",
    "    (['t0_audit_p_filter'] + [f\"t0_audit_p_{i}\" for i in range(1, 3+1)]) +\n",
    "    (['t0_dudit_p_filter'] + [f\"t0_dudit_p_{i}\" for i in range(1, 4+1)]) +\n",
    "    [f\"t0_msfq_p_{i}\" for i in range(1, 5+1)] +\n",
    "    [f\"t0_pid_p_{i}\" for i in range(1, 36+1)] +\n",
    "    [f\"t0_opd_p_{i}\" for i in range(1, 12+1)] +\n",
    "    [f\"t0_ace_p_{i}\" for i in range(1, 10+1)] +\n",
    "    [f\"t0_ask_p_{i}\" for i in range(1, 3+1)] +\n",
    "    [f\"t0_mhse_p_{i}\" for i in range(1, 6+1)] +\n",
    "\n",
    "    # t1 scales\n",
    "    [f\"t1_phq_p_{i}\" for i in range(1, 8+1)] +\n",
    "    [f\"t1_gad_p_{i}\" for i in range(1, 7+1)] +\n",
    "\n",
    "    # alliance / matching\n",
    "    ['t0_change_tp_1', 't0_change_tp_2', 't0_matching_tp_1'] +\n",
    "    [f\"t1_wai_tp_{i}\" for i in range(1, 9)] +\n",
    "    [f\"t1_wai_p_{i}\" for i in range(1, 11)] +\n",
    "    ['t1_matching_tp_1','t0_matching_p_1', 't1_matching_p_1']\n",
    ")\n"
   ]
  },
  {
   "cell_type": "code",
   "execution_count": 11,
   "id": "b1492826-b390-4c16-9dc0-33982ff5126c",
   "metadata": {},
   "outputs": [],
   "source": [
    "df_pat= df_pat[keep_cols]"
   ]
  },
  {
   "cell_type": "markdown",
   "id": "efe45d7b-4e83-47bc-a6c3-fcd4d26a4ada",
   "metadata": {},
   "source": [
    "#### 2.1 Calculate Subscales for self-report data"
   ]
  },
  {
   "cell_type": "markdown",
   "id": "d2bd4267-9765-4bab-9aed-a0374489dbda",
   "metadata": {},
   "source": [
    "#### Outcome T1 (PHQ + GAD)"
   ]
  },
  {
   "cell_type": "code",
   "execution_count": 12,
   "id": "258418f4-8e7e-41bc-a9bb-7a3d451cbeb4",
   "metadata": {},
   "outputs": [],
   "source": [
    "# define item columns\n",
    "phq_cols_t1 = [f\"t1_phq_p_{i}\" for i in range(1, 9)]\n",
    "gad_cols_t1 = [f\"t1_gad_p_{i}\" for i in range(1, 8)]\n",
    "\n",
    "mask_complete = df_pat[phq_cols_t1 + gad_cols_t1].notna().all(axis=1)\n",
    "df_pat_clean = df_pat.loc[mask_complete].copy()"
   ]
  },
  {
   "cell_type": "code",
   "execution_count": 13,
   "id": "36448252-24f1-49ee-a2b9-f3eb0b00348b",
   "metadata": {},
   "outputs": [],
   "source": [
    "df_pat_clean[\"t1_phq8_total\"] = df_pat_clean[phq_cols_t1].sum(axis=1)\n",
    "df_pat_clean[\"t1_gad7_total\"] = df_pat_clean[gad_cols_t1].sum(axis=1)"
   ]
  },
  {
   "cell_type": "code",
   "execution_count": 14,
   "id": "6a253f54-fbd5-4d52-8c5c-00f7fe5fce2f",
   "metadata": {},
   "outputs": [],
   "source": [
    "df_pat_clean[\"t1_distress_sum\"] = (\n",
    "    df_pat_clean[\"t1_phq8_total\"] + df_pat_clean[\"t1_gad7_total\"]\n",
    ")"
   ]
  },
  {
   "cell_type": "markdown",
   "id": "7b0e7213-f376-4637-a665-3ef338a9e385",
   "metadata": {},
   "source": [
    "#### Outcome T0 (PHQ + GAD)"
   ]
  },
  {
   "cell_type": "code",
   "execution_count": 15,
   "id": "667a2d29-240e-49c4-a917-150c83a8e6f8",
   "metadata": {},
   "outputs": [],
   "source": [
    "# define item columns\n",
    "phq_cols_t0 = [f\"t0_phq_p_{i}\" for i in range(1, 9)]\n",
    "gad_cols_t0 = [f\"t0_gad_p_{i}\" for i in range(1, 8)]"
   ]
  },
  {
   "cell_type": "code",
   "execution_count": 16,
   "id": "c4744b0b-6f1e-429b-a754-7ccc64689d06",
   "metadata": {},
   "outputs": [],
   "source": [
    "df_pat_clean[\"t0_phq8_total\"] = df_pat_clean[phq_cols_t0].sum(axis=1)\n",
    "df_pat_clean[\"t0_gad7_total\"] = df_pat_clean[gad_cols_t0].sum(axis=1)"
   ]
  },
  {
   "cell_type": "code",
   "execution_count": 17,
   "id": "30aea652-8f57-4afe-86db-a8115274eeec",
   "metadata": {},
   "outputs": [],
   "source": [
    "df_pat_clean[\"t0_distress_sum\"] = (\n",
    "    df_pat_clean[\"t0_phq8_total\"] + df_pat_clean[\"t0_gad7_total\"]\n",
    ")"
   ]
  },
  {
   "cell_type": "markdown",
   "id": "17baa351-00ec-492e-b535-5812b3825a7c",
   "metadata": {},
   "source": [
    "#### SWLS Baseline"
   ]
  },
  {
   "cell_type": "code",
   "execution_count": 18,
   "id": "34d850c4-16ce-43c5-8e79-93e971865512",
   "metadata": {},
   "outputs": [],
   "source": [
    "swls_cols_t0 = [f\"t0_swls_p_{i}\" for i in range(1, 6)]"
   ]
  },
  {
   "cell_type": "code",
   "execution_count": 19,
   "id": "cb435d06-c21f-40bc-a4d1-16e7a7f52f66",
   "metadata": {},
   "outputs": [],
   "source": [
    "df_pat_clean[\"t0_swls_total\"] = df_pat_clean[swls_cols_t0].sum(axis=1)"
   ]
  },
  {
   "cell_type": "markdown",
   "id": "20bd42fb-325b-4447-a55b-39114a3f2b7d",
   "metadata": {},
   "source": [
    "#### Aqol Baseline"
   ]
  },
  {
   "cell_type": "code",
   "execution_count": 20,
   "id": "b950ff6b-cd7d-459d-b84e-d391b6276c4c",
   "metadata": {},
   "outputs": [],
   "source": [
    "aqol_map = {\n",
    "    \"t0_aqol_p_coping\": ['t0_aqol_p_1', 't0_aqol_p_21', 't0_aqol_p_29'],\n",
    "    \"t0_aqol_p_relationship\": ['t0_aqol_p_2', 't0_aqol_p_4', 't0_aqol_p_9', 't0_aqol_p_10',\n",
    "                               't0_aqol_p_23', 't0_aqol_p_31', 't0_aqol_p_34'],\n",
    "    \"t0_aqol_p_independent_living\": ['t0_aqol_p_3', 't0_aqol_p_15', 't0_aqol_p_19', 't0_aqol_p_30'],\n",
    "    \"t0_aqol_p_mental_health\": ['t0_aqol_p_5', 't0_aqol_p_8', 't0_aqol_p_12', 't0_aqol_p_14',\n",
    "                                't0_aqol_p_16', 't0_aqol_p_18', 't0_aqol_p_33', 't0_aqol_p_35'],\n",
    "    \"t0_aqol_p_pain\": ['t0_aqol_p_6', 't0_aqol_p_22', 't0_aqol_p_24'],\n",
    "    \"t0_aqol_p_self_worth\": ['t0_aqol_p_7', 't0_aqol_p_13', 't0_aqol_p_26'],\n",
    "    \"t0_aqol_p_happiness\": ['t0_aqol_p_17', 't0_aqol_p_20', 't0_aqol_p_25', 't0_aqol_p_27'],\n",
    "    \"t0_aqol_p_senses\": ['t0_aqol_p_11', 't0_aqol_p_28', 't0_aqol_p_32'],\n",
    "}"
   ]
  },
  {
   "cell_type": "code",
   "execution_count": 21,
   "id": "c34e79b4-16a5-40ea-b4ba-414dc3e009cf",
   "metadata": {},
   "outputs": [],
   "source": [
    "df_pat_clean = df_pat_clean.assign(**{scale: df_pat_clean[items].mean(axis=1) for scale, items in aqol_map.items()})\n"
   ]
  },
  {
   "cell_type": "markdown",
   "id": "a50a1813-316f-4b27-af73-167605e9c39e",
   "metadata": {},
   "source": [
    "#### EDE Baseline"
   ]
  },
  {
   "cell_type": "code",
   "execution_count": 22,
   "id": "da1bf704-634a-405b-a2c2-e128dbbbbafa",
   "metadata": {},
   "outputs": [],
   "source": [
    "df_pat_clean[\"t0_ede_sum\"] = df_pat_clean[[f\"t0_ede_p_{i}\" for i in range(1, 9)]].sum(axis=1)\n"
   ]
  },
  {
   "cell_type": "markdown",
   "id": "3b1fb89b-2914-4ed7-94ea-2b4e6a2442c4",
   "metadata": {},
   "source": [
    "#### Audit Baseline"
   ]
  },
  {
   "cell_type": "code",
   "execution_count": 23,
   "id": "1d4a4037-28eb-41d3-a68a-4ece9543762d",
   "metadata": {},
   "outputs": [],
   "source": [
    "# sum AUDIT items only if filter == 1; otherwise set total to 0\n",
    "aud_items = [f\"t0_audit_p_{i}\" for i in range(1, 4)]\n",
    "df_pat_clean[\"t0_audit_sum\"] = np.where(df_pat_clean[\"t0_audit_p_filter\"] == 1,\n",
    "                                df_pat_clean[aud_items].sum(axis=1),\n",
    "                                0)"
   ]
  },
  {
   "cell_type": "markdown",
   "id": "0202f8bb-520f-449e-af5e-17d3a11b0144",
   "metadata": {},
   "source": [
    "#### Dudit Baseline"
   ]
  },
  {
   "cell_type": "code",
   "execution_count": 24,
   "id": "8cd00bfd-c841-462c-ad2d-f49145d0fb5a",
   "metadata": {},
   "outputs": [],
   "source": [
    "# sum AUDIT items only if filter == 1; otherwise set total to 0\n",
    "dud_items = [f\"t0_dudit_p_{i}\" for i in range(1, 4)]\n",
    "df_pat_clean[\"t0_dudit_sum\"] = np.where(df_pat_clean[\"t0_dudit_p_filter\"] == 1,\n",
    "                                df_pat_clean[dud_items].sum(axis=1),\n",
    "                                0)"
   ]
  },
  {
   "cell_type": "markdown",
   "id": "67a9ad1f-73d5-4ce3-8cc1-1ac791192bdd",
   "metadata": {},
   "source": [
    "#### MFSQ Baseline"
   ]
  },
  {
   "cell_type": "code",
   "execution_count": null,
   "id": "e5b2a467-777c-4697-9d87-d766f232875d",
   "metadata": {},
   "outputs": [],
   "source": [
    "msfq_cols = [f\"t0_msfq_p_{i}\" for i in range(1, 6)]\n",
    "df[msfq_cols] = df[msfq_cols].apply(pd.to_numeric, errors=\"coerce\")\n",
    "\n",
    "df[\"t0_msfq_p_sum\"] = df[msfq_cols].sum(axis=1)"
   ]
  },
  {
   "cell_type": "markdown",
   "id": "801b7eca-8ce1-4a08-a1b9-77b815e8c799",
   "metadata": {},
   "source": [
    "#### PID5BF+ Baseline"
   ]
  },
  {
   "cell_type": "code",
   "execution_count": 25,
   "id": "121a941b-4073-46d3-91d9-655b3cc653ff",
   "metadata": {},
   "outputs": [],
   "source": [
    "\n",
    "# PID-5 BF+ domains → item columns\n",
    "pid_map = {\n",
    "    \"t0_pid_negative_affect\": ['t0_pid_p_1','t0_pid_p_7','t0_pid_p_13','t0_pid_p_19','t0_pid_p_25','t0_pid_p_31'],\n",
    "    \"t0_pid_antagonism\":      ['t0_pid_p_2','t0_pid_p_8','t0_pid_p_14','t0_pid_p_20','t0_pid_p_26','t0_pid_p_32'],\n",
    "    \"t0_pid_disinhibition\":   ['t0_pid_p_3','t0_pid_p_9','t0_pid_p_15','t0_pid_p_21','t0_pid_p_27','t0_pid_p_33'],\n",
    "    \"t0_pid_detachment\":      ['t0_pid_p_4','t0_pid_p_10','t0_pid_p_16','t0_pid_p_22','t0_pid_p_28','t0_pid_p_34'],\n",
    "    \"t0_pid_psychoticism\":    ['t0_pid_p_5','t0_pid_p_11','t0_pid_p_17','t0_pid_p_23','t0_pid_p_29','t0_pid_p_35'],\n",
    "    \"t0_pid_anankastia\":      ['t0_pid_p_6','t0_pid_p_12','t0_pid_p_18','t0_pid_p_24','t0_pid_p_30','t0_pid_p_36'],\n",
    "}\n",
    "\n",
    "# 1) Coerce all PID item columns to numeric (e.g., \"2\" → 2, invalid → NaN)\n",
    "item_cols = sorted({c for cols in pid_map.values() for c in cols})\n",
    "df_pat_clean[item_cols] = df_pat_clean[item_cols].apply(pd.to_numeric, errors=\"coerce\")\n",
    "\n",
    "# 2) Domain sums (NaNs treated as 0 by default)\n",
    "for scale, items in pid_map.items():\n",
    "    df_pat_clean[scale] = df_pat_clean[items].mean(axis=1)\n"
   ]
  },
  {
   "cell_type": "markdown",
   "id": "e71f4ffb-3eeb-494e-8cd0-957d71ee6336",
   "metadata": {},
   "source": [
    "#### OPD Baseline"
   ]
  },
  {
   "cell_type": "code",
   "execution_count": 26,
   "id": "af30bfa8-3609-4348-9418-fe32175289dc",
   "metadata": {},
   "outputs": [],
   "source": [
    "# OPD-SFK domains → item columns\n",
    "opd_map = {\n",
    "    \"t0_opd_self\":         ['t0_opd_p_1', 't0_opd_p_2', 't0_opd_p_5', 't0_opd_p_8'],\n",
    "    \"t0_opd_contact\":      ['t0_opd_p_4', 't0_opd_p_6', 't0_opd_p_10', 't0_opd_p_11'],\n",
    "    \"t0_opd_relationship\": ['t0_opd_p_3', 't0_opd_p_7', 't0_opd_p_9', 't0_opd_p_12'],\n",
    "}\n",
    "\n",
    "# coerce item columns to numeric (e.g., \"2\" → 2; invalid → NaN)\n",
    "opd_items = sorted({c for cols in opd_map.values() for c in cols})\n",
    "df_pat_clean[opd_items] = df_pat_clean[opd_items].apply(pd.to_numeric, errors=\"coerce\")\n",
    "\n",
    "# domain sums (NaNs treated as 0 by default)\n",
    "for scale, items in opd_map.items():\n",
    "    df_pat_clean[scale] = df_pat_clean[items].mean(axis=1)"
   ]
  },
  {
   "cell_type": "markdown",
   "id": "9999adc0-afb3-4a7f-8d15-4bd6e03b4272",
   "metadata": {},
   "source": [
    "#### ACE Baseline"
   ]
  },
  {
   "cell_type": "code",
   "execution_count": 28,
   "id": "c776abba-66a9-4feb-912a-b641e256fdad",
   "metadata": {},
   "outputs": [],
   "source": [
    "ace_cols = [f\"t0_ace_p_{i}\" for i in range(1, 11)]\n",
    "\n",
    "# ensure numeric (e.g., \"1\" -> 1; invalid -> NaN)\n",
    "df_pat_clean[ace_cols] = df_pat_clean[ace_cols].apply(pd.to_numeric, errors=\"coerce\")\n",
    "\n",
    "df_pat_clean[\"t0_ace_p_sum\"] = df_pat_clean[ace_cols].sum(axis=1)"
   ]
  },
  {
   "cell_type": "markdown",
   "id": "bf77da24-2aa5-4b0d-bafc-976af1cbb590",
   "metadata": {},
   "source": [
    "#### ASK Baseline"
   ]
  },
  {
   "cell_type": "code",
   "execution_count": 30,
   "id": "e0a1593d-ef33-48e9-8945-d7cec9fe1581",
   "metadata": {},
   "outputs": [],
   "source": [
    "ask_cols = [f\"t0_ask_p_{i}\" for i in range(1, 4)]\n",
    "df_pat_clean[ask_cols] = df_pat_clean[ask_cols].apply(pd.to_numeric, errors=\"coerce\")\n",
    "\n",
    "df_pat_clean[\"t0_ask_p_sum\"] = df_pat_clean[ask_cols].sum(axis=1)"
   ]
  },
  {
   "cell_type": "markdown",
   "id": "76b24036-7abb-4d0e-b949-6b4722d7651e",
   "metadata": {},
   "source": [
    "#### MHSE Baseline"
   ]
  },
  {
   "cell_type": "code",
   "execution_count": 31,
   "id": "5fad03bb-1d5f-4180-8512-ff9c267024b5",
   "metadata": {},
   "outputs": [],
   "source": [
    "mhse_cols = [f\"t0_mhse_p_{i}\" for i in range(1, 7)]\n",
    "df_pat_clean[mhse_cols] = df_pat_clean[mhse_cols].apply(pd.to_numeric, errors=\"coerce\")\n",
    "\n",
    "df_pat_clean[\"t0_mhse_p_sum\"] = df_pat_clean[mhse_cols].sum(axis=1)"
   ]
  },
  {
   "cell_type": "markdown",
   "id": "f5062aed-171d-430d-a237-727a787da649",
   "metadata": {},
   "source": [
    "### 2.2 Preprocess data"
   ]
  },
  {
   "cell_type": "code",
   "execution_count": null,
   "id": "79d96090-50c6-4708-8660-f07953d2e169",
   "metadata": {},
   "outputs": [],
   "source": []
  }
 ],
 "metadata": {
  "kernelspec": {
   "display_name": "Python (matching)",
   "language": "python",
   "name": "matching"
  },
  "language_info": {
   "codemirror_mode": {
    "name": "ipython",
    "version": 3
   },
   "file_extension": ".py",
   "mimetype": "text/x-python",
   "name": "python",
   "nbconvert_exporter": "python",
   "pygments_lexer": "ipython3",
   "version": "3.12.11"
  }
 },
 "nbformat": 4,
 "nbformat_minor": 5
}
